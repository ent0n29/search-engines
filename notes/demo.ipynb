{
 "cells": [
  {
   "cell_type": "code",
   "execution_count": 1,
   "metadata": {},
   "outputs": [],
   "source": [
    "import gensim\n",
    "from gensim.models import Word2Vec\n",
    "import numpy as np\n",
    "import nltk\n",
    "import itertools\n",
    "from nltk.corpus import stopwords\n",
    "from nltk.tokenize import sent_tokenize, word_tokenize\n",
    "import scipy\n",
    "from scipy import spatial\n",
    "from nltk.tokenize.toktok import ToktokTokenizer\n",
    "import re\n",
    "tokenizer = ToktokTokenizer()\n",
    "stopword_list = nltk.corpus.stopwords.words('english')"
   ]
  },
  {
   "cell_type": "code",
   "execution_count": 2,
   "metadata": {},
   "outputs": [],
   "source": [
    "# This Python 3 environment comes with many helpful analytics libraries installed\n",
    "# It is defined by the kaggle/python Docker image: https://github.com/kaggle/docker-python\n",
    "# For example, here's several helpful packages to load\n",
    "\n",
    "import numpy as np # linear algebra\n",
    "import pandas as pd # data processing, CSV file I/O (e.g. pd.read_csv)\n",
    "\n",
    "# Input data files are available in the read-only \"../input/\" directory\n",
    "# For example, running this (by clicking run or pressing Shift+Enter) will list all files under the input directory\n",
    "\n",
    "import os\n",
    "for dirname, _, filenames in os.walk('/kaggle/input'):\n",
    "    for filename in filenames:\n",
    "        print(os.path.join(dirname, filename))\n",
    "\n",
    "# You can write up to 20GB to the current directory (/kaggle/working/) that gets preserved as output when you create a version using \"Save & Run All\" \n",
    "# You can also write temporary files to /kaggle/temp/, but they won't be saved outside of the current session"
   ]
  },
  {
   "cell_type": "code",
   "execution_count": 3,
   "metadata": {},
   "outputs": [],
   "source": [
    "# Let us consider we have 4 documents\n",
    "Doc1 = [\"With the Union cabinet approving the amendments to the Motor Vehicles Act, 2016, those caught for drunken driving will have to have really deep pockets, as the fine payable in court has been enhanced to Rs 10,000 for first-time offenders.\" ]\n",
    "Doc2 = [\"Natural language processing (NLP) is an area of computer science and artificial intelligence concerned with the interactions between computers and human (natural) languages, in particular how to program computers to process and analyze large amounts of natural language data.\"]\n",
    "Doc3 = [\"He points out that public transport is very good in Mumbai and New Delhi, where there is a good network of suburban and metro rail systems.\"]\n",
    "Doc4 = [\"But the man behind the wickets at the other end was watching just as keenly. With an affirmative nod from Dhoni, India captain Rohit Sharma promptly asked for a review. Sure enough, the ball would have clipped the top of middle and leg.\"]"
   ]
  },
  {
   "cell_type": "code",
   "execution_count": 4,
   "metadata": {},
   "outputs": [
    {
     "data": {
      "text/plain": [
       "['With the Union cabinet approving the amendments to the Motor Vehicles Act, 2016, those caught for drunken driving will have to have really deep pockets, as the fine payable in court has been enhanced to Rs 10,000 for first-time offenders.',\n",
       " 'Natural language processing (NLP) is an area of computer science and artificial intelligence concerned with the interactions between computers and human (natural) languages, in particular how to program computers to process and analyze large amounts of natural language data.',\n",
       " 'He points out that public transport is very good in Mumbai and New Delhi, where there is a good network of suburban and metro rail systems.',\n",
       " 'But the man behind the wickets at the other end was watching just as keenly. With an affirmative nod from Dhoni, India captain Rohit Sharma promptly asked for a review. Sure enough, the ball would have clipped the top of middle and leg.']"
      ]
     },
     "execution_count": 4,
     "metadata": {},
     "output_type": "execute_result"
    }
   ],
   "source": [
    "full_doc = Doc1+Doc2+Doc3+Doc4\n",
    "full_doc"
   ]
  },
  {
   "cell_type": "code",
   "execution_count": 5,
   "metadata": {},
   "outputs": [
    {
     "ename": "FileNotFoundError",
     "evalue": "[Errno 2] No such file or directory: 'GoogleNews-vectors-negative300.bin'",
     "output_type": "error",
     "traceback": [
      "\u001b[0;31m---------------------------------------------------------------------------\u001b[0m",
      "\u001b[0;31mFileNotFoundError\u001b[0m                         Traceback (most recent call last)",
      "\u001b[0;32m/tmp/ipykernel_11423/3382638616.py\u001b[0m in \u001b[0;36m<module>\u001b[0;34m\u001b[0m\n\u001b[0;32m----> 1\u001b[0;31m \u001b[0mmodel\u001b[0m \u001b[0;34m=\u001b[0m \u001b[0mgensim\u001b[0m\u001b[0;34m.\u001b[0m\u001b[0mmodels\u001b[0m\u001b[0;34m.\u001b[0m\u001b[0mKeyedVectors\u001b[0m\u001b[0;34m.\u001b[0m\u001b[0mload_word2vec_format\u001b[0m\u001b[0;34m(\u001b[0m\u001b[0;34m'GoogleNews-vectors-negative300.bin'\u001b[0m\u001b[0;34m,\u001b[0m \u001b[0mbinary\u001b[0m\u001b[0;34m=\u001b[0m\u001b[0;32mTrue\u001b[0m\u001b[0;34m)\u001b[0m\u001b[0;34m\u001b[0m\u001b[0;34m\u001b[0m\u001b[0m\n\u001b[0m",
      "\u001b[0;32m~/.local/lib/python3.10/site-packages/gensim/models/keyedvectors.py\u001b[0m in \u001b[0;36mload_word2vec_format\u001b[0;34m(cls, fname, fvocab, binary, encoding, unicode_errors, limit, datatype, no_header)\u001b[0m\n\u001b[1;32m   1717\u001b[0m \u001b[0;34m\u001b[0m\u001b[0m\n\u001b[1;32m   1718\u001b[0m         \"\"\"\n\u001b[0;32m-> 1719\u001b[0;31m         return _load_word2vec_format(\n\u001b[0m\u001b[1;32m   1720\u001b[0m             \u001b[0mcls\u001b[0m\u001b[0;34m,\u001b[0m \u001b[0mfname\u001b[0m\u001b[0;34m,\u001b[0m \u001b[0mfvocab\u001b[0m\u001b[0;34m=\u001b[0m\u001b[0mfvocab\u001b[0m\u001b[0;34m,\u001b[0m \u001b[0mbinary\u001b[0m\u001b[0;34m=\u001b[0m\u001b[0mbinary\u001b[0m\u001b[0;34m,\u001b[0m \u001b[0mencoding\u001b[0m\u001b[0;34m=\u001b[0m\u001b[0mencoding\u001b[0m\u001b[0;34m,\u001b[0m \u001b[0municode_errors\u001b[0m\u001b[0;34m=\u001b[0m\u001b[0municode_errors\u001b[0m\u001b[0;34m,\u001b[0m\u001b[0;34m\u001b[0m\u001b[0;34m\u001b[0m\u001b[0m\n\u001b[1;32m   1721\u001b[0m             \u001b[0mlimit\u001b[0m\u001b[0;34m=\u001b[0m\u001b[0mlimit\u001b[0m\u001b[0;34m,\u001b[0m \u001b[0mdatatype\u001b[0m\u001b[0;34m=\u001b[0m\u001b[0mdatatype\u001b[0m\u001b[0;34m,\u001b[0m \u001b[0mno_header\u001b[0m\u001b[0;34m=\u001b[0m\u001b[0mno_header\u001b[0m\u001b[0;34m,\u001b[0m\u001b[0;34m\u001b[0m\u001b[0;34m\u001b[0m\u001b[0m\n",
      "\u001b[0;32m~/.local/lib/python3.10/site-packages/gensim/models/keyedvectors.py\u001b[0m in \u001b[0;36m_load_word2vec_format\u001b[0;34m(cls, fname, fvocab, binary, encoding, unicode_errors, limit, datatype, no_header, binary_chunk_size)\u001b[0m\n\u001b[1;32m   2046\u001b[0m \u001b[0;34m\u001b[0m\u001b[0m\n\u001b[1;32m   2047\u001b[0m     \u001b[0mlogger\u001b[0m\u001b[0;34m.\u001b[0m\u001b[0minfo\u001b[0m\u001b[0;34m(\u001b[0m\u001b[0;34m\"loading projection weights from %s\"\u001b[0m\u001b[0;34m,\u001b[0m \u001b[0mfname\u001b[0m\u001b[0;34m)\u001b[0m\u001b[0;34m\u001b[0m\u001b[0;34m\u001b[0m\u001b[0m\n\u001b[0;32m-> 2048\u001b[0;31m     \u001b[0;32mwith\u001b[0m \u001b[0mutils\u001b[0m\u001b[0;34m.\u001b[0m\u001b[0mopen\u001b[0m\u001b[0;34m(\u001b[0m\u001b[0mfname\u001b[0m\u001b[0;34m,\u001b[0m \u001b[0;34m'rb'\u001b[0m\u001b[0;34m)\u001b[0m \u001b[0;32mas\u001b[0m \u001b[0mfin\u001b[0m\u001b[0;34m:\u001b[0m\u001b[0;34m\u001b[0m\u001b[0;34m\u001b[0m\u001b[0m\n\u001b[0m\u001b[1;32m   2049\u001b[0m         \u001b[0;32mif\u001b[0m \u001b[0mno_header\u001b[0m\u001b[0;34m:\u001b[0m\u001b[0;34m\u001b[0m\u001b[0;34m\u001b[0m\u001b[0m\n\u001b[1;32m   2050\u001b[0m             \u001b[0;31m# deduce both vocab_size & vector_size from 1st pass over file\u001b[0m\u001b[0;34m\u001b[0m\u001b[0;34m\u001b[0m\u001b[0m\n",
      "\u001b[0;32m~/.local/lib/python3.10/site-packages/smart_open/smart_open_lib.py\u001b[0m in \u001b[0;36mopen\u001b[0;34m(uri, mode, buffering, encoding, errors, newline, closefd, opener, compression, transport_params)\u001b[0m\n\u001b[1;32m    175\u001b[0m         \u001b[0mtransport_params\u001b[0m \u001b[0;34m=\u001b[0m \u001b[0;34m{\u001b[0m\u001b[0;34m}\u001b[0m\u001b[0;34m\u001b[0m\u001b[0;34m\u001b[0m\u001b[0m\n\u001b[1;32m    176\u001b[0m \u001b[0;34m\u001b[0m\u001b[0m\n\u001b[0;32m--> 177\u001b[0;31m     fobj = _shortcut_open(\n\u001b[0m\u001b[1;32m    178\u001b[0m         \u001b[0muri\u001b[0m\u001b[0;34m,\u001b[0m\u001b[0;34m\u001b[0m\u001b[0;34m\u001b[0m\u001b[0m\n\u001b[1;32m    179\u001b[0m         \u001b[0mmode\u001b[0m\u001b[0;34m,\u001b[0m\u001b[0;34m\u001b[0m\u001b[0;34m\u001b[0m\u001b[0m\n",
      "\u001b[0;32m~/.local/lib/python3.10/site-packages/smart_open/smart_open_lib.py\u001b[0m in \u001b[0;36m_shortcut_open\u001b[0;34m(uri, mode, compression, buffering, encoding, errors, newline)\u001b[0m\n\u001b[1;32m    361\u001b[0m         \u001b[0mopen_kwargs\u001b[0m\u001b[0;34m[\u001b[0m\u001b[0;34m'errors'\u001b[0m\u001b[0;34m]\u001b[0m \u001b[0;34m=\u001b[0m \u001b[0merrors\u001b[0m\u001b[0;34m\u001b[0m\u001b[0;34m\u001b[0m\u001b[0m\n\u001b[1;32m    362\u001b[0m \u001b[0;34m\u001b[0m\u001b[0m\n\u001b[0;32m--> 363\u001b[0;31m     \u001b[0;32mreturn\u001b[0m \u001b[0m_builtin_open\u001b[0m\u001b[0;34m(\u001b[0m\u001b[0mlocal_path\u001b[0m\u001b[0;34m,\u001b[0m \u001b[0mmode\u001b[0m\u001b[0;34m,\u001b[0m \u001b[0mbuffering\u001b[0m\u001b[0;34m=\u001b[0m\u001b[0mbuffering\u001b[0m\u001b[0;34m,\u001b[0m \u001b[0;34m**\u001b[0m\u001b[0mopen_kwargs\u001b[0m\u001b[0;34m)\u001b[0m\u001b[0;34m\u001b[0m\u001b[0;34m\u001b[0m\u001b[0m\n\u001b[0m\u001b[1;32m    364\u001b[0m \u001b[0;34m\u001b[0m\u001b[0m\n\u001b[1;32m    365\u001b[0m \u001b[0;34m\u001b[0m\u001b[0m\n",
      "\u001b[0;31mFileNotFoundError\u001b[0m: [Errno 2] No such file or directory: 'GoogleNews-vectors-negative300.bin'"
     ]
    }
   ],
   "source": [
    "model = gensim.models.KeyedVectors.load_word2vec_format('GoogleNews-vectors-negative300.bin', binary=True)"
   ]
  },
  {
   "cell_type": "code",
   "execution_count": null,
   "metadata": {},
   "outputs": [],
   "source": [
    "def data_clean(text):\n",
    "    pattern = r'[^a-zA-Z0-9\\s]'\n",
    "    text = re.sub(pattern,'',' '.join(text))\n",
    "    tokens = [token.strip() for token in text.split()]\n",
    "    filtered = [token for token in tokens if token.lower() not in stopword_list]\n",
    "    filtered = ' '.join(filtered)\n",
    "    return filtered"
   ]
  },
  {
   "cell_type": "code",
   "execution_count": null,
   "metadata": {},
   "outputs": [
    {
     "data": {
      "text/plain": [
       "'Union cabinet approving amendments Motor Vehicles Act 2016 caught drunken driving really deep pockets fine payable court enhanced Rs 10000 firsttime offenders'"
      ]
     },
     "execution_count": 8,
     "metadata": {},
     "output_type": "execute_result"
    }
   ],
   "source": [
    "data_clean(nltk.word_tokenize(full_doc[0]))\n"
   ]
  },
  {
   "cell_type": "code",
   "execution_count": null,
   "metadata": {},
   "outputs": [],
   "source": [
    "def embeddings(word):\n",
    "    print(word)\n",
    "    if word in model.key_to_index:\n",
    "        return model.get_vector(word)\n",
    "    else:\n",
    "        return np.zeros(300)"
   ]
  },
  {
   "cell_type": "code",
   "execution_count": null,
   "metadata": {},
   "outputs": [
    {
     "name": "stdout",
     "output_type": "stream",
     "text": [
      "Union\n",
      "cabinet\n",
      "approving\n",
      "amendments\n",
      "Motor\n",
      "Vehicles\n",
      "Act\n",
      "2016\n",
      "caught\n",
      "drunken\n",
      "driving\n",
      "really\n",
      "deep\n",
      "pockets\n",
      "fine\n",
      "payable\n",
      "court\n",
      "enhanced\n",
      "Rs\n",
      "10000\n",
      "firsttime\n",
      "offenders\n",
      "Natural\n",
      "language\n",
      "processing\n",
      "NLP\n",
      "area\n",
      "computer\n",
      "science\n",
      "artificial\n",
      "intelligence\n",
      "concerned\n",
      "interactions\n",
      "computers\n",
      "human\n",
      "natural\n",
      "languages\n",
      "particular\n",
      "program\n",
      "computers\n",
      "process\n",
      "analyze\n",
      "large\n",
      "amounts\n",
      "natural\n",
      "language\n",
      "data\n",
      "points\n",
      "public\n",
      "transport\n",
      "good\n",
      "Mumbai\n",
      "New\n",
      "Delhi\n",
      "good\n",
      "network\n",
      "suburban\n",
      "metro\n",
      "rail\n",
      "systems\n",
      "man\n",
      "behind\n",
      "wickets\n",
      "end\n",
      "watching\n",
      "keenly\n",
      "affirmative\n",
      "nod\n",
      "Dhoni\n",
      "India\n",
      "captain\n",
      "Rohit\n",
      "Sharma\n",
      "promptly\n",
      "asked\n",
      "review\n",
      "Sure\n",
      "enough\n",
      "ball\n",
      "would\n",
      "clipped\n",
      "top\n",
      "middle\n",
      "leg\n"
     ]
    }
   ],
   "source": [
    "# Average vector for each document\n",
    "out_dict = {}\n",
    "for sen in full_doc:\n",
    "    average_vector = (np.mean(np.array([embeddings(x) for x in data_clean(nltk.word_tokenize(sen)).split()]), axis=0))\n",
    "    d1 = {sen: (average_vector)}\n",
    "    out_dict.update(d1)"
   ]
  },
  {
   "cell_type": "code",
   "execution_count": null,
   "metadata": {},
   "outputs": [
    {
     "data": {
      "text/plain": [
       "{'With the Union cabinet approving the amendments to the Motor Vehicles Act, 2016, those caught for drunken driving will have to have really deep pockets, as the fine payable in court has been enhanced to Rs 10,000 for first-time offenders.': array([ 0.0059648 ,  0.07422152,  0.02200317,  0.05176891, -0.05416038,\n",
       "        -0.11055964,  0.00973372, -0.01471086,  0.06308608,  0.03867409,\n",
       "        -0.02027199,  0.00665144, -0.01004583,  0.03567227, -0.1430886 ,\n",
       "         0.01957009,  0.08405928,  0.01300049,  0.00619533, -0.03672374,\n",
       "         0.0830411 , -0.01095581, -0.0281979 , -0.01133589,  0.088304  ,\n",
       "        -0.07389138, -0.0822199 ,  0.04952309,  0.03541704, -0.03258722,\n",
       "        -0.05574174, -0.10178999,  0.03765314,  0.09196888,  0.02263849,\n",
       "        -0.10769298,  0.0222057 , -0.05080899, -0.03323087,  0.06027499,\n",
       "         0.00488836, -0.040003  ,  0.09283066, -0.0387158 , -0.09643277,\n",
       "        -0.09111439, -0.01537531,  0.04396612,  0.00518799, -0.02616189,\n",
       "        -0.05735085,  0.03955494,  0.04590399,  0.01609664,  0.018056  ,\n",
       "         0.03652954, -0.04795421,  0.02303106, -0.01919833, -0.08331299,\n",
       "         0.00086663,  0.04005016, -0.12689764, -0.05830765, -0.04525063,\n",
       "         0.03962291, -0.03257101,  0.08096591, -0.022325  , -0.02347911,\n",
       "        -0.04855624, -0.03722867,  0.06946217,  0.07361117, -0.05953702,\n",
       "        -0.06536796,  0.04611588,  0.0353671 ,  0.01093466, -0.01614657,\n",
       "        -0.00736861, -0.08130993, -0.01429124,  0.0773038 ,  0.0351507 ,\n",
       "        -0.03158292, -0.06694533,  0.10427024,  0.01095442,  0.0475769 ,\n",
       "         0.06980202,  0.01898193,  0.04738825, -0.08248971, -0.05965632,\n",
       "        -0.02021096,  0.0530288 , -0.05165239, -0.01116943, -0.0427801 ,\n",
       "        -0.00467751, -0.0680431 ,  0.04991705, -0.02907215,  0.0487879 ,\n",
       "        -0.04223217,  0.06589404, -0.02419004,  0.04930115, -0.05424265,\n",
       "        -0.02871982, -0.01980175, -0.05749096, -0.00922186,  0.12812597,\n",
       "        -0.01693448,  0.05765742, -0.01957841,  0.03857977,  0.02402566,\n",
       "         0.0178944 ,  0.09828602, -0.09648479,  0.0781876 ,  0.02555119,\n",
       "        -0.01349432, -0.07647046, -0.05965077,  0.09802246,  0.00878282,\n",
       "         0.03987885,  0.01086426, -0.078125  , -0.05068692, -0.11543725,\n",
       "        -0.02161338, -0.0282357 ,  0.01489466, -0.05632435,  0.14611816,\n",
       "        -0.02042458,  0.02226673, -0.02474421,  0.01688142, -0.05937611,\n",
       "        -0.01270641, -0.07430649,  0.0300293 , -0.04226823,  0.01138583,\n",
       "         0.14207042, -0.02280773, -0.04526589, -0.00897217, -0.01614796,\n",
       "        -0.05988659, -0.07375682, -0.06261236, -0.06445867, -0.01717446,\n",
       "         0.06538946,  0.04117654,  0.04763517, -0.04792057, -0.03888876,\n",
       "        -0.05320878,  0.04041637,  0.02038574, -0.01822593, -0.04286333,\n",
       "        -0.09654375, -0.07865767, -0.01775603, -0.07587572, -0.02458607,\n",
       "        -0.09593513,  0.0317258 , -0.09067466, -0.08565174, -0.01656584,\n",
       "        -0.04260462, -0.01019391, -0.01241788,  0.01119302, -0.08704446,\n",
       "        -0.02980943,  0.03420743,  0.05284812, -0.01947576,  0.04915272,\n",
       "        -0.03788619,  0.05452728, -0.04800692,  0.00985198, -0.02058133,\n",
       "         0.05910977,  0.04725924, -0.03182706,  0.01772239, -0.00691501,\n",
       "         0.03356448,  0.03811368,  0.0683247 , -0.02654266,  0.05482691,\n",
       "         0.06283985,  0.00066861,  0.01978649,  0.0576269 , -0.02966309,\n",
       "        -0.02615356,  0.01992798,  0.03947865,  0.08299672, -0.07651589,\n",
       "         0.07711515,  0.04042964,  0.09548395, -0.05937888,  0.00113054,\n",
       "        -0.05977353,  0.0087067 , -0.01044256,  0.00774696,  0.0873968 ,\n",
       "        -0.07302302,  0.04447382,  0.04327497,  0.0469943 , -0.04084362,\n",
       "        -0.03852983,  0.04652405,  0.01164662,  0.05375671, -0.05955835,\n",
       "         0.01024836,  0.02852006, -0.05754644,  0.08380682, -0.02053833,\n",
       "         0.11056172, -0.0463784 , -0.00322377, -0.0909729 , -0.03637522,\n",
       "         0.00382857, -0.05047607,  0.08122878,  0.04776643, -0.06358199,\n",
       "         0.090314  ,  0.08785733, -0.02385642,  0.05747015,  0.05954257,\n",
       "        -0.01961656,  0.05725653, -0.03020408,  0.01665705, -0.05926514,\n",
       "         0.02518186, -0.00391839, -0.02275502, -0.0170302 ,  0.01961725,\n",
       "         0.08021129, -0.10929593, -0.00162575, -0.08382485, -0.04324341,\n",
       "        -0.02448065,  0.08678783,  0.00141491,  0.09500226,  0.04321566,\n",
       "        -0.04801247, -0.00775979, -0.02036355, -0.08380196,  0.05347789,\n",
       "        -0.00679294,  0.03128407,  0.09266246,  0.03237083, -0.03083663,\n",
       "         0.00422547, -0.0713279 ,  0.04567927,  0.08569336,  0.08530634,\n",
       "        -0.07131264,  0.0092177 , -0.05235707, -0.03238839, -0.0244099 ,\n",
       "         0.03223957, -0.00196145, -0.06947465,  0.03434337, -0.02124301]),\n",
       " 'Natural language processing (NLP) is an area of computer science and artificial intelligence concerned with the interactions between computers and human (natural) languages, in particular how to program computers to process and analyze large amounts of natural language data.': array([ 0.03391846,  0.0065625 ,  0.09499512,  0.09006286, -0.1335962 ,\n",
       "         0.04352905,  0.06916656, -0.01892822,  0.0422583 ,  0.01842041,\n",
       "        -0.01867188, -0.09969726, -0.0728833 ,  0.0430957 , -0.07966797,\n",
       "         0.05475098, -0.07138733,  0.18426758,  0.00218132, -0.12675782,\n",
       "        -0.06415772,  0.05413086, -0.09300689,  0.07677002,  0.03924805,\n",
       "        -0.06263977, -0.04523926,  0.04384766,  0.00168213, -0.09248535,\n",
       "        -0.00586151, -0.05376953, -0.06954589, -0.01606628, -0.03486817,\n",
       "        -0.09757812, -0.08962158, -0.00698242,  0.05602966, -0.01429535,\n",
       "         0.07778564,  0.0617102 ,  0.08265015,  0.10590775, -0.05191895,\n",
       "        -0.08716797, -0.0626709 ,  0.0778833 , -0.13183472,  0.04490875,\n",
       "        -0.02640411, -0.10547363, -0.03930664, -0.06262207, -0.05419556,\n",
       "         0.10575308, -0.04703278, -0.21782959,  0.01905693, -0.05782593,\n",
       "        -0.02082672,  0.01025665, -0.01455566, -0.00454102, -0.06000488,\n",
       "         0.03701172, -0.07119873,  0.20434326, -0.06038574, -0.04299805,\n",
       "        -0.00361298, -0.1296463 ,  0.0382251 ,  0.00552124, -0.07398926,\n",
       "        -0.03312866,  0.11482422,  0.03261108,  0.03207031,  0.03880699,\n",
       "         0.00419251,  0.0388623 ,  0.10637573,  0.04390625,  0.04290771,\n",
       "        -0.11012939, -0.0603009 ,  0.20303711,  0.01699951,  0.06594849,\n",
       "         0.06823486, -0.0404541 , -0.07577148, -0.0725586 ,  0.00357422,\n",
       "        -0.01531738,  0.04986816, -0.0191626 ,  0.08833496, -0.00824097,\n",
       "         0.03657471, -0.01816406, -0.01871338, -0.00459229,  0.04675781,\n",
       "         0.06026978, -0.04597168, -0.06802856,  0.16213867, -0.03619995,\n",
       "        -0.10816956,  0.00138184,  0.00416016,  0.01447266,  0.07629028,\n",
       "         0.08739258, -0.0162908 , -0.03298828,  0.11761475,  0.036073  ,\n",
       "        -0.12937012,  0.0242334 , -0.02290527,  0.11145111, -0.09836105,\n",
       "         0.05100678, -0.09944336, -0.02883301,  0.0290979 ,  0.09034485,\n",
       "        -0.01388336, -0.07470948, -0.1271399 ,  0.01402351,  0.04702149,\n",
       "        -0.06557129,  0.06494629, -0.00225098, -0.03255859, -0.00921265,\n",
       "         0.07158691, -0.0648706 , -0.07884277,  0.01197754, -0.00802734,\n",
       "        -0.01089417,  0.10860596,  0.08984375, -0.06292969, -0.03094971,\n",
       "         0.08737549,  0.00668823, -0.0807959 ,  0.12756592,  0.00728027,\n",
       "        -0.07107911, -0.11242798, -0.03789795, -0.07181641, -0.03020508,\n",
       "        -0.08496582,  0.01649292, -0.06044434,  0.01078247, -0.01256447,\n",
       "         0.07775848,  0.03499512, -0.05751465,  0.01165894,  0.0138855 ,\n",
       "        -0.0853186 ,  0.07159912, -0.08893677,  0.00787964,  0.08631348,\n",
       "        -0.02585937,  0.03067627, -0.10936768, -0.12594971, -0.08962799,\n",
       "        -0.06280975, -0.10990234,  0.01428955, -0.14107543,  0.04040588,\n",
       "         0.01526855, -0.06856201,  0.03553222,  0.05140869,  0.05946533,\n",
       "        -0.10359375, -0.09856445, -0.01297852,  0.01977783, -0.02354736,\n",
       "         0.04460938,  0.02236816, -0.1418164 , -0.05495666, -0.07726563,\n",
       "        -0.00124023,  0.05714752,  0.01093506,  0.03199646, -0.04788978,\n",
       "        -0.03747436,  0.08857056, -0.0290332 , -0.05993652, -0.04640381,\n",
       "        -0.06733551, -0.06290024, -0.08338188,  0.04088623, -0.0042334 ,\n",
       "         0.08572754,  0.12004822,  0.09244201, -0.08879883, -0.00168945,\n",
       "         0.03446045, -0.02395752, -0.04629394, -0.04791016, -0.02895752,\n",
       "        -0.04406738,  0.00468018, -0.00091064,  0.00294434,  0.03695923,\n",
       "         0.03483398, -0.0521875 ,  0.00486725, -0.03233154, -0.00935303,\n",
       "        -0.08132812,  0.06643799, -0.01341553,  0.03672913, -0.022099  ,\n",
       "         0.03638428, -0.00905212, -0.00519287, -0.03675537,  0.00207275,\n",
       "        -0.05055176,  0.02437378,  0.14654297, -0.04884705, -0.03835358,\n",
       "        -0.07009277, -0.03978271, -0.0273584 ,  0.03640076,  0.03195068,\n",
       "        -0.12730347, -0.04999451,  0.02761963, -0.04697265, -0.01440918,\n",
       "         0.03145508, -0.06819092, -0.05930176,  0.06512451,  0.0305188 ,\n",
       "         0.04447998,  0.00289764, -0.03639648, -0.13769913, -0.01928223,\n",
       "        -0.0778125 ,  0.0037207 , -0.04551361,  0.01537781,  0.02169678,\n",
       "        -0.04870117, -0.02657776, -0.06336426,  0.02443115, -0.015625  ,\n",
       "        -0.08210785,  0.05325928,  0.10068116,  0.05881348, -0.00729584,\n",
       "        -0.0974707 , -0.01187256,  0.03165283,  0.08176151,  0.14749023,\n",
       "        -0.15490723,  0.00811863, -0.02296997, -0.00465271,  0.00898926,\n",
       "         0.00898682,  0.03306396, -0.03728332,  0.04583008, -0.00148376],\n",
       "       dtype=float32),\n",
       " 'He points out that public transport is very good in Mumbai and New Delhi, where there is a good network of suburban and metro rail systems.': array([ 0.01838332,  0.06488037,  0.04980703,  0.11181641,  0.02060171,\n",
       "        -0.06595656, -0.10958158, -0.01352281,  0.03980431,  0.06709172,\n",
       "        -0.03562575,  0.04865676,  0.09833761, -0.08456656, -0.05197848,\n",
       "        -0.00184514,  0.07378094,  0.08855262, -0.01990685, -0.04362605,\n",
       "         0.01489258, -0.03293081, -0.01206618,  0.06535926,  0.1586914 ,\n",
       "         0.02542819, -0.17184684,  0.07231727,  0.00438045, -0.07022564,\n",
       "         0.04065176, -0.13197678, -0.03271484, -0.07785621,  0.00297605,\n",
       "        -0.06645848, -0.03906015, -0.03375714,  0.07150503,  0.04043344,\n",
       "        -0.02203839, -0.0510207 ,  0.08986253,  0.09019823, -0.10136003,\n",
       "        -0.06580763, -0.01612267,  0.01885047,  0.01239483,  0.10970365,\n",
       "         0.05800218,  0.1374324 ,  0.02077044, -0.05187519, -0.12504585,\n",
       "        -0.04451811, -0.16731144, -0.01962515,  0.00608943, -0.06290846,\n",
       "        -0.03771621,  0.02662201, -0.15956937, -0.05404428, -0.02207536,\n",
       "         0.05633076, -0.08820049,  0.13154484, -0.04048509,  0.09801894,\n",
       "        -0.0773785 ,  0.01084548,  0.07493004,  0.02395689, -0.12336613,\n",
       "        -0.10110708, -0.02122146,  0.05867591, -0.02637658, -0.0127047 ,\n",
       "        -0.00785945,  0.02977577,  0.0545936 , -0.05213341, -0.01650766,\n",
       "        -0.02394603, -0.11748798,  0.02822172,  0.04647123,  0.07779635,\n",
       "         0.04716844, -0.01143705, -0.06894449, -0.0235044 , -0.11049242,\n",
       "        -0.02448684,  0.099769  , -0.04583271,  0.0320951 , -0.01755406,\n",
       "         0.069566  , -0.01518602,  0.06929838,  0.0776602 , -0.01237605,\n",
       "        -0.05311467,  0.03479943, -0.02074726,  0.03391207, -0.0369251 ,\n",
       "        -0.04713557, -0.05094558, -0.03097769, -0.10338417,  0.14151353,\n",
       "        -0.01050744,  0.01921199, -0.0255127 ,  0.13062462,  0.05568754,\n",
       "        -0.14713463,  0.02039161, -0.14445613, -0.03607178, -0.03619385,\n",
       "         0.02367694,  0.01330566, -0.04267766,  0.02053598, -0.03053636,\n",
       "        -0.01673302,  0.00752141, -0.01296997, -0.06206806, -0.01483389,\n",
       "        -0.09112784,  0.13672344,  0.00427011, -0.05908673,  0.11002526,\n",
       "        -0.03652719, -0.12506104,  0.03569617,  0.03183218, -0.09863281,\n",
       "        -0.03556002, -0.07080078, -0.06497486,  0.01672833, -0.01446064,\n",
       "         0.13848408,  0.00874622,  0.04402043,  0.01259202, -0.06202815,\n",
       "        -0.1108868 , -0.02747052, -0.07286659, -0.02664889, -0.05060988,\n",
       "        -0.0612793 , -0.0099634 ,  0.07219051,  0.06914814,  0.02420983,\n",
       "         0.0411283 , -0.01059899, -0.20334567,  0.05949167, -0.01767202,\n",
       "        -0.17388447, -0.10750639, -0.00885949, -0.05802448,  0.06100699,\n",
       "         0.01094877, -0.00644977, -0.17390324, -0.1424044 , -0.05549504,\n",
       "        -0.01237605,  0.01200984, -0.09189077, -0.07383846,  0.06986178,\n",
       "         0.02745643, -0.05224609,  0.03080397,  0.05975811,  0.05226487,\n",
       "        -0.07453038, -0.05551382, -0.11253944, -0.00229117, -0.04107197,\n",
       "         0.01879179, -0.02606671, -0.10979755, -0.01294884, -0.08248197,\n",
       "        -0.04873481,  0.07123272,  0.08127535,  0.03862117, -0.0118596 ,\n",
       "        -0.09724309, -0.06657762, -0.1294497 ,  0.06919391, -0.05942007,\n",
       "        -0.13400504, -0.01910166,  0.01452637,  0.01746544, -0.12832406,\n",
       "         0.0652278 ,  0.00761531,  0.1590717 ,  0.03588163,  0.05014038,\n",
       "         0.05772517, -0.06342301, -0.00926795,  0.05668171, -0.10277382,\n",
       "        -0.06022292, -0.09614563,  0.07261305,  0.00929612,  0.01849835,\n",
       "         0.00351187, -0.05726037,  0.08168382,  0.06286152, -0.00582886,\n",
       "         0.05081059,  0.0744535 , -0.06781299,  0.03758357, -0.04532799,\n",
       "         0.16261292,  0.01111779,  0.03185331, -0.05589294, -0.11089619,\n",
       "         0.04203444,  0.00291091,  0.03224534, -0.09101515, -0.07148273,\n",
       "         0.01424467,  0.10712609,  0.06817158,  0.08543044,  0.1030649 ,\n",
       "        -0.11725323,  0.02408776, -0.01927537, -0.15115121, -0.08920523,\n",
       "        -0.04572942,  0.03425481, -0.02119857,  0.03141902,  0.12250225,\n",
       "         0.16201547, -0.07548641, -0.08494215, -0.09707407, -0.02068153,\n",
       "        -0.09757996, -0.02296976,  0.07573994, -0.06796499,  0.10772316,\n",
       "        -0.12282152,  0.04025503,  0.00864821,  0.05691294,  0.0156696 ,\n",
       "        -0.09310209,  0.05595515,  0.02621343,  0.00241324, -0.06076402,\n",
       "         0.01569073, -0.0746413 ,  0.01031494,  0.01008254,  0.02950346,\n",
       "        -0.05869704, -0.02348915, -0.03032978,  0.06586163, -0.02458308,\n",
       "        -0.03128521, -0.01752648,  0.00857779,  0.00025705, -0.08295617],\n",
       "       dtype=float32),\n",
       " 'But the man behind the wickets at the other end was watching just as keenly. With an affirmative nod from Dhoni, India captain Rohit Sharma promptly asked for a review. Sure enough, the ball would have clipped the top of middle and leg.': array([ 0.02152729,  0.07826996,  0.03483709,  0.03920491, -0.05767059,\n",
       "        -0.14695103,  0.06895701, -0.09741465,  0.08063634,  0.03935321,\n",
       "         0.02423096, -0.07912811,  0.03892263,  0.04039383, -0.10966364,\n",
       "         0.06284491,  0.05605571,  0.02680334,  0.00825246,  0.00699615,\n",
       "         0.01458271,  0.02722231,  0.0600183 , -0.05926132,  0.08194542,\n",
       "        -0.09108829, -0.14272308,  0.04820251,  0.13367462, -0.01946131,\n",
       "        -0.09580358, -0.02328491, -0.03325526, -0.00716702, -0.00344356,\n",
       "        -0.00737127, -0.00088247, -0.00370026,  0.05380758,  0.05104319,\n",
       "         0.07937113, -0.09692383,  0.19997661, -0.01776377, -0.04524485,\n",
       "        -0.01270962, -0.02026621, -0.03567505,  0.10951233,  0.03395589,\n",
       "        -0.04298655,  0.07245382,  0.02502283, -0.08092117,  0.030454  ,\n",
       "         0.00784302,  0.00999069, -0.09940338,  0.02639008, -0.09064166,\n",
       "        -0.02149455,  0.06768378, -0.1348877 , -0.11927032, -0.04529317,\n",
       "         0.07830048, -0.02482462,  0.03135936,  0.05505371,  0.06561788,\n",
       "        -0.0034256 , -0.01069641,  0.02213542, -0.04199727, -0.18192291,\n",
       "        -0.10941569,  0.05673472,  0.06450399,  0.00258128,  0.0067908 ,\n",
       "         0.05015659,  0.04306285, -0.02490489, -0.00156275,  0.01987362,\n",
       "         0.01731904, -0.03919347,  0.08153407,  0.04343923,  0.03220431,\n",
       "         0.05306244,  0.06108856, -0.06533941,  0.04101054, -0.06724167,\n",
       "        -0.06665929,  0.02132924,  0.00976562, -0.08594131, -0.02620188,\n",
       "        -0.03367853, -0.12343597,  0.04695638,  0.00188414,  0.032341  ,\n",
       "        -0.06527201,  0.01171525, -0.04675023,  0.03247197, -0.02643903,\n",
       "        -0.01696014, -0.02106222,  0.03558858, -0.02532514,  0.1248951 ,\n",
       "         0.006869  , -0.04427338, -0.00035095,  0.14324825,  0.03825378,\n",
       "        -0.1132253 ,  0.06174723, -0.08479309,  0.07830492, -0.09591421,\n",
       "         0.01996867, -0.00084432, -0.06025696, -0.04347165,  0.05703735,\n",
       "        -0.10189184, -0.05026245, -0.05673472, -0.09239944, -0.04677327,\n",
       "        -0.05413501,  0.01629671,  0.05983226, -0.03321902,  0.1626358 ,\n",
       "         0.08432547, -0.07772795,  0.00246366, -0.01003901, -0.11297957,\n",
       "         0.07315063, -0.05788088, -0.03819783, -0.02634303,  0.05306498,\n",
       "         0.04477692,  0.03032112, -0.06554222,  0.04078038, -0.03004456,\n",
       "        -0.02131144, -0.13707988, -0.08957926, -0.0121638 , -0.0063343 ,\n",
       "        -0.08283361, -0.07426199,  0.10931396, -0.01473999, -0.0071284 ,\n",
       "        -0.16654968,  0.08093262, -0.0019989 ,  0.01122538, -0.00690715,\n",
       "        -0.09675598, -0.00067266,  0.00330035, -0.09917959, -0.04429881,\n",
       "        -0.08144379,  0.11790848, -0.09911092, -0.10625204, -0.05874729,\n",
       "        -0.03187307,  0.01561864,  0.08757082, -0.04036522, -0.00773748,\n",
       "         0.04482142,  0.06260172, -0.00685883,  0.10661825, -0.00334803,\n",
       "        -0.04677327,  0.00181834, -0.03679403,  0.02215958,  0.02018229,\n",
       "         0.03929011,  0.0460453 ,  0.00879669,  0.02042468, -0.07475027,\n",
       "         0.03125   ,  0.00227992, -0.02319399, -0.01721446,  0.00286293,\n",
       "        -0.05186971, -0.02275085, -0.03705851,  0.07457495, -0.00419617,\n",
       "        -0.05022176,  0.04018784, -0.04244741, -0.00500075, -0.10035515,\n",
       "        -0.06587728, -0.00148265,  0.05227916, -0.11649577, -0.01956431,\n",
       "        -0.02407583,  0.05843989, -0.06968816,  0.0280927 ,  0.04695256,\n",
       "         0.01069975,  0.11027628, -0.15308253,  0.08281454, -0.02744039,\n",
       "        -0.08563646,  0.00998433,  0.0319163 , -0.04294841,  0.10997733,\n",
       "         0.00818125,  0.01760101, -0.06685416,  0.07970747,  0.02897135,\n",
       "         0.03678322, -0.00993315,  0.05282275, -0.14183553, -0.02029673,\n",
       "         0.05528259, -0.01291702, -0.05102475,  0.03642654,  0.0320816 ,\n",
       "         0.07093811,  0.04281616,  0.07844035,  0.07219505,  0.07522583,\n",
       "        -0.0172259 , -0.00771586,  0.03473155, -0.08651098, -0.08152771,\n",
       "        -0.05012449,  0.14277904, -0.0056502 , -0.03600311,  0.07499472,\n",
       "         0.08768591, -0.07292684,  0.02290901,  0.01018524, -0.0350914 ,\n",
       "        -0.01221466,  0.05475362,  0.05998039,  0.02066422,  0.09848277,\n",
       "        -0.08782705, -0.01073456, -0.12253761, -0.00866048,  0.0413723 ,\n",
       "         0.07741133, -0.06583023, -0.04731115,  0.11311086, -0.04676183,\n",
       "        -0.02648544, -0.0223999 ,  0.08499654,  0.04666774,  0.06313197,\n",
       "        -0.00763448, -0.04570548,  0.00772603, -0.04104996, -0.00966008,\n",
       "         0.03914897, -0.03617604, -0.01899719, -0.02275721,  0.03424581],\n",
       "       dtype=float32)}"
      ]
     },
     "execution_count": 11,
     "metadata": {},
     "output_type": "execute_result"
    }
   ],
   "source": [
    "out_dict"
   ]
  },
  {
   "cell_type": "code",
   "execution_count": null,
   "metadata": {},
   "outputs": [],
   "source": [
    "def get_sim(query_embedding, average_vec):\n",
    "    sim = [(1 - scipy.spatial.distance.cosine(query_embedding, average_vec))]\n",
    "    return sim"
   ]
  },
  {
   "cell_type": "code",
   "execution_count": null,
   "metadata": {},
   "outputs": [],
   "source": [
    "# Ranking all docs based on similarity\n",
    "def rankings(query):\n",
    "    query_words = (np.mean(np.array([embeddings(x) for x in nltk.word_tokenize(query.lower())], dtype=float), axis=0))\n",
    "    rank = []\n",
    "    for k, v in out_dict.items():\n",
    "        rank.append((k, get_sim(query_words, v)))\n",
    "    rank = sorted(rank, key=lambda t: t[1], reverse=True)\n",
    "    print(\"Ranked documents: \")\n",
    "    return rank"
   ]
  },
  {
   "cell_type": "code",
   "execution_count": null,
   "metadata": {},
   "outputs": [
    {
     "name": "stdout",
     "output_type": "stream",
     "text": [
      "hospital\n",
      "Ranked documents: \n"
     ]
    },
    {
     "data": {
      "text/plain": [
       "[('He points out that public transport is very good in Mumbai and New Delhi, where there is a good network of suburban and metro rail systems.',\n",
       "  [0.2356751605739692]),\n",
       " ('With the Union cabinet approving the amendments to the Motor Vehicles Act, 2016, those caught for drunken driving will have to have really deep pockets, as the fine payable in court has been enhanced to Rs 10,000 for first-time offenders.',\n",
       "  [0.18409906475253734]),\n",
       " ('But the man behind the wickets at the other end was watching just as keenly. With an affirmative nod from Dhoni, India captain Rohit Sharma promptly asked for a review. Sure enough, the ball would have clipped the top of middle and leg.',\n",
       "  [0.15243095468964107]),\n",
       " ('Natural language processing (NLP) is an area of computer science and artificial intelligence concerned with the interactions between computers and human (natural) languages, in particular how to program computers to process and analyze large amounts of natural language data.',\n",
       "  [0.1386876671679238])]"
      ]
     },
     "execution_count": 14,
     "metadata": {},
     "output_type": "execute_result"
    }
   ],
   "source": [
    "rankings(\"hospital\")"
   ]
  },
  {
   "cell_type": "code",
   "execution_count": null,
   "metadata": {},
   "outputs": [
    {
     "name": "stdout",
     "output_type": "stream",
     "text": [
      "driving\n",
      "Ranked documents: \n"
     ]
    },
    {
     "data": {
      "text/plain": [
       "[('With the Union cabinet approving the amendments to the Motor Vehicles Act, 2016, those caught for drunken driving will have to have really deep pockets, as the fine payable in court has been enhanced to Rs 10,000 for first-time offenders.',\n",
       "  [0.3594728772380067]),\n",
       " ('But the man behind the wickets at the other end was watching just as keenly. With an affirmative nod from Dhoni, India captain Rohit Sharma promptly asked for a review. Sure enough, the ball would have clipped the top of middle and leg.',\n",
       "  [0.19042557661139026]),\n",
       " ('He points out that public transport is very good in Mumbai and New Delhi, where there is a good network of suburban and metro rail systems.',\n",
       "  [0.1706653724240128]),\n",
       " ('Natural language processing (NLP) is an area of computer science and artificial intelligence concerned with the interactions between computers and human (natural) languages, in particular how to program computers to process and analyze large amounts of natural language data.',\n",
       "  [0.08872308406410134])]"
      ]
     },
     "execution_count": 16,
     "metadata": {},
     "output_type": "execute_result"
    }
   ],
   "source": [
    "rankings(\"driving\")"
   ]
  }
 ],
 "metadata": {
  "kernelspec": {
   "display_name": "Python 3",
   "language": "python",
   "name": "python3"
  },
  "language_info": {
   "codemirror_mode": {
    "name": "ipython",
    "version": 3
   },
   "file_extension": ".py",
   "mimetype": "text/x-python",
   "name": "python",
   "nbconvert_exporter": "python",
   "pygments_lexer": "ipython3",
   "version": "3.10.12"
  }
 },
 "nbformat": 4,
 "nbformat_minor": 2
}
